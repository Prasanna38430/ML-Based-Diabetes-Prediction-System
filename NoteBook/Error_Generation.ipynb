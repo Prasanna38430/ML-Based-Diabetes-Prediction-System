{
 "cells": [
  {
   "cell_type": "markdown",
   "metadata": {},
   "source": [
    "# Data Issue Generation Notebook"
   ]
  },
  {
   "cell_type": "markdown",
   "metadata": {},
   "source": [
    "### 1. Import Libraries and Load Dataset"
   ]
  },
  {
   "cell_type": "code",
   "execution_count": 1,
   "metadata": {},
   "outputs": [
    {
     "data": {
      "text/html": [
       "<div>\n",
       "<style scoped>\n",
       "    .dataframe tbody tr th:only-of-type {\n",
       "        vertical-align: middle;\n",
       "    }\n",
       "\n",
       "    .dataframe tbody tr th {\n",
       "        vertical-align: top;\n",
       "    }\n",
       "\n",
       "    .dataframe thead th {\n",
       "        text-align: right;\n",
       "    }\n",
       "</style>\n",
       "<table border=\"1\" class=\"dataframe\">\n",
       "  <thead>\n",
       "    <tr style=\"text-align: right;\">\n",
       "      <th></th>\n",
       "      <th>gender</th>\n",
       "      <th>age</th>\n",
       "      <th>hypertension</th>\n",
       "      <th>heart_disease</th>\n",
       "      <th>smoking_history</th>\n",
       "      <th>bmi</th>\n",
       "      <th>hbA1c_level</th>\n",
       "      <th>blood_glucose_level</th>\n",
       "      <th>actual_label</th>\n",
       "    </tr>\n",
       "  </thead>\n",
       "  <tbody>\n",
       "    <tr>\n",
       "      <th>0</th>\n",
       "      <td>Female</td>\n",
       "      <td>80.0</td>\n",
       "      <td>0</td>\n",
       "      <td>0</td>\n",
       "      <td>No Info</td>\n",
       "      <td>10.01</td>\n",
       "      <td>6.0</td>\n",
       "      <td>100</td>\n",
       "      <td>0</td>\n",
       "    </tr>\n",
       "    <tr>\n",
       "      <th>1</th>\n",
       "      <td>Male</td>\n",
       "      <td>8.0</td>\n",
       "      <td>0</td>\n",
       "      <td>0</td>\n",
       "      <td>No Info</td>\n",
       "      <td>10.01</td>\n",
       "      <td>6.0</td>\n",
       "      <td>140</td>\n",
       "      <td>0</td>\n",
       "    </tr>\n",
       "    <tr>\n",
       "      <th>2</th>\n",
       "      <td>Male</td>\n",
       "      <td>38.0</td>\n",
       "      <td>0</td>\n",
       "      <td>0</td>\n",
       "      <td>Never</td>\n",
       "      <td>10.08</td>\n",
       "      <td>6.1</td>\n",
       "      <td>130</td>\n",
       "      <td>0</td>\n",
       "    </tr>\n",
       "    <tr>\n",
       "      <th>3</th>\n",
       "      <td>Male</td>\n",
       "      <td>11.0</td>\n",
       "      <td>0</td>\n",
       "      <td>0</td>\n",
       "      <td>No Info</td>\n",
       "      <td>10.14</td>\n",
       "      <td>6.1</td>\n",
       "      <td>160</td>\n",
       "      <td>0</td>\n",
       "    </tr>\n",
       "    <tr>\n",
       "      <th>4</th>\n",
       "      <td>Male</td>\n",
       "      <td>39.0</td>\n",
       "      <td>0</td>\n",
       "      <td>0</td>\n",
       "      <td>Never</td>\n",
       "      <td>10.19</td>\n",
       "      <td>6.5</td>\n",
       "      <td>85</td>\n",
       "      <td>0</td>\n",
       "    </tr>\n",
       "  </tbody>\n",
       "</table>\n",
       "</div>"
      ],
      "text/plain": [
       "   gender   age  hypertension  heart_disease smoking_history    bmi  \\\n",
       "0  Female  80.0             0              0         No Info  10.01   \n",
       "1    Male   8.0             0              0         No Info  10.01   \n",
       "2    Male  38.0             0              0           Never  10.08   \n",
       "3    Male  11.0             0              0         No Info  10.14   \n",
       "4    Male  39.0             0              0           Never  10.19   \n",
       "\n",
       "   hbA1c_level  blood_glucose_level  actual_label  \n",
       "0          6.0                  100             0  \n",
       "1          6.0                  140             0  \n",
       "2          6.1                  130             0  \n",
       "3          6.1                  160             0  \n",
       "4          6.5                   85             0  "
      ]
     },
     "execution_count": 1,
     "metadata": {},
     "output_type": "execute_result"
    }
   ],
   "source": [
    "\n",
    "import pandas as pd\n",
    "import numpy as np\n",
    "import random\n",
    "\n",
    "# Load the dataset \n",
    "dataset_path = '../airflow/data/diabetes_dataset.csv'  \n",
    "df = pd.read_csv(dataset_path)\n",
    "df_errors = df.copy()\n",
    "df_errors.rename(columns={'diabetes': 'actual_label'}, inplace=True)\n",
    "df_errors.head()\n"
   ]
  },
  {
   "cell_type": "markdown",
   "metadata": {},
   "source": [
    "### 1. Introduce Missing Values (in 'Age' and 'Blood Glucose Level')"
   ]
  },
  {
   "cell_type": "code",
   "execution_count": null,
   "metadata": {},
   "outputs": [],
   "source": [
    "missing_percentage = 0.1\n",
    "n_missing = int(len(df_errors) * missing_percentage)\n",
    "\n",
    "missing_age_indices = random.sample(range(len(df_errors)), n_missing)\n",
    "missing_bgl_indices = random.sample(range(len(df_errors)), n_missing)\n",
    "\n",
    "df_errors.loc[missing_age_indices, 'age'] = np.nan\n",
    "df_errors.loc[missing_bgl_indices, 'blood_glucose_level'] = np.nan\n",
    "df_errors.loc[missing_age_indices, 'hbA1c_level'] = np.nan  \n",
    "df_errors.loc[missing_bgl_indices, 'gender'] = np.nan "
   ]
  },
  {
   "cell_type": "markdown",
   "metadata": {},
   "source": [
    "### 2. Introduce Unknown Values in 'Gender'"
   ]
  },
  {
   "cell_type": "code",
   "execution_count": null,
   "metadata": {},
   "outputs": [],
   "source": [
    "unknown_gender_indices = random.sample(range(len(df_errors)), 25)\n",
    "df_errors.loc[unknown_gender_indices, 'gender'] = 'Unknown'"
   ]
  },
  {
   "cell_type": "markdown",
   "metadata": {},
   "source": [
    "### 3. Introduce Wrong data Values for Features"
   ]
  },
  {
   "cell_type": "code",
   "execution_count": null,
   "metadata": {},
   "outputs": [],
   "source": [
    "wrong_age_indices = random.sample(range(len(df_errors)), 25)\n",
    "wrong_gender_indices = random.sample(range(len(df_errors)), 25)\n",
    "\n",
    "df_errors.loc[wrong_age_indices, 'age'] = -12\n",
    "df_errors.loc[wrong_gender_indices, 'gender'] = 'child'"
   ]
  },
  {
   "cell_type": "markdown",
   "metadata": {},
   "source": [
    "### 4. Introduce String in Numerical Columns (e.g., 'Blood Glucose Level')"
   ]
  },
  {
   "cell_type": "code",
   "execution_count": 6,
   "metadata": {},
   "outputs": [],
   "source": [
    "string_in_bgl_indices = random.sample(range(len(df_errors)), 25)\n",
    "string_in_age_indices = random.sample(range(len(df_errors)), 35)\n",
    "\n",
    "bgl_strings = ['High', 'Low']\n",
    "age_strings = ['Young', 'Old', 'Teen']\n",
    "\n",
    "for idx, val in zip(string_in_bgl_indices, random.choices(bgl_strings, k=len(string_in_bgl_indices))):\n",
    "    df_errors.loc[idx, 'blood_glucose_level'] = val\n",
    "\n",
    "for idx, val in zip(string_in_age_indices, random.choices(age_strings, k=len(string_in_age_indices))):\n",
    "    df_errors.loc[idx, 'age'] = val"
   ]
  },
  {
   "cell_type": "markdown",
   "metadata": {},
   "source": [
    "### 5. Introduce Outliers (e.g., extreme BMI values)"
   ]
  },
  {
   "cell_type": "code",
   "execution_count": 8,
   "metadata": {},
   "outputs": [],
   "source": [
    "outlier_bmi_indices = random.sample(range(len(df_errors)), 20)\n",
    "df_errors.loc[outlier_bmi_indices, 'bmi'] = random.choices([100, 200], k=len(outlier_bmi_indices))"
   ]
  },
  {
   "cell_type": "markdown",
   "metadata": {},
   "source": [
    "### 6. Special Characters or Corrupted Data"
   ]
  },
  {
   "cell_type": "code",
   "execution_count": 9,
   "metadata": {},
   "outputs": [
    {
     "name": "stderr",
     "output_type": "stream",
     "text": [
      "C:\\Users\\raghu\\AppData\\Local\\Temp\\ipykernel_13544\\3430918292.py:4: FutureWarning: Setting an item of incompatible dtype is deprecated and will raise an error in a future version of pandas. Value '['$$$', '*&%', '@#$', '!@', '###', '!@', '!@', '*&%', '!@', '###', '$$$', '###', '@#$', '$$$', '@#$', '$$$', '*&%', '@#$', '###', '###', '$$$', '@#$', '$$$', '###', '$$$']' has dtype incompatible with float64, please explicitly cast to a compatible dtype first.\n",
      "  df_errors.loc[special_char_indices, 'hbA1c_level'] = corrupt_values\n"
     ]
    }
   ],
   "source": [
    "special_char_indices = random.sample(range(len(df_errors)), 25)\n",
    "corrupt_values = random.choices(['@#$', '*&%', '!@', '###', '$$$'], k=len(special_char_indices))\n",
    "\n",
    "df_errors.loc[special_char_indices, 'hbA1c_level'] = corrupt_values"
   ]
  },
  {
   "cell_type": "markdown",
   "metadata": {},
   "source": [
    "### 7. Random Duplicate rows"
   ]
  },
  {
   "cell_type": "code",
   "execution_count": 10,
   "metadata": {},
   "outputs": [],
   "source": [
    "swap_indices = random.sample(range(len(df_errors)), 15)\n",
    "df_errors.loc[swap_indices, ['age', 'bmi']] = df_errors.loc[swap_indices, ['bmi', 'age']].values"
   ]
  },
  {
   "cell_type": "markdown",
   "metadata": {},
   "source": [
    "###  8. Introduce Missing Columns (drop 'Heart Disease' column)"
   ]
  },
  {
   "cell_type": "code",
   "execution_count": 11,
   "metadata": {},
   "outputs": [],
   "source": [
    "part1 = df_errors.iloc[:500].drop(columns=['heart_disease'], errors='ignore')\n",
    "part2 = df_errors.iloc[500:]"
   ]
  },
  {
   "cell_type": "markdown",
   "metadata": {},
   "source": [
    "### ->Saving Error Files into Generated folder"
   ]
  },
  {
   "cell_type": "code",
   "execution_count": 12,
   "metadata": {},
   "outputs": [
    {
     "name": "stdout",
     "output_type": "stream",
     "text": [
      "\n",
      "✅ Corrupted data saved for GE validation at:\n",
      "- ../airflow/data/generated_errors\\diabetes_data_with_errors.csv\n",
      "- ../airflow/data/generated_errors\\diabetes_data2_with_errors.csv\n"
     ]
    }
   ],
   "source": [
    "import os\n",
    "# --- Save Output ---\n",
    "output_dir = '../airflow/data/generated_errors'\n",
    "os.makedirs(output_dir, exist_ok=True)\n",
    "\n",
    "output_file1 = os.path.join(output_dir, 'diabetes_data_with_errors.csv')\n",
    "output_file2 = os.path.join(output_dir, 'diabetes_data2_with_errors.csv')\n",
    "\n",
    "part1.to_csv(output_file1, index=False, na_rep=\"NaN\")\n",
    "part2.to_csv(output_file2, index=False, na_rep=\"NaN\")\n",
    "\n",
    "print(f\"\\n✅ Corrupted data saved for GE validation at:\\n- {output_file1}\\n- {output_file2}\")"
   ]
  }
 ],
 "metadata": {
  "kernelspec": {
   "display_name": "ml",
   "language": "python",
   "name": "python3"
  },
  "language_info": {
   "codemirror_mode": {
    "name": "ipython",
    "version": 3
   },
   "file_extension": ".py",
   "mimetype": "text/x-python",
   "name": "python",
   "nbconvert_exporter": "python",
   "pygments_lexer": "ipython3",
   "version": "3.9.21"
  }
 },
 "nbformat": 4,
 "nbformat_minor": 2
}
