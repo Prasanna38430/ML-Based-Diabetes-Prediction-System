{
 "cells": [
  {
   "cell_type": "markdown",
   "metadata": {},
   "source": [
    "# Data Issue Generation Notebook"
   ]
  },
  {
   "cell_type": "markdown",
   "metadata": {},
   "source": [
    "### 1. Import Libraries and Load Dataset"
   ]
  },
  {
   "cell_type": "code",
   "execution_count": 1,
   "metadata": {},
   "outputs": [
    {
     "data": {
      "text/html": [
       "<div>\n",
       "<style scoped>\n",
       "    .dataframe tbody tr th:only-of-type {\n",
       "        vertical-align: middle;\n",
       "    }\n",
       "\n",
       "    .dataframe tbody tr th {\n",
       "        vertical-align: top;\n",
       "    }\n",
       "\n",
       "    .dataframe thead th {\n",
       "        text-align: right;\n",
       "    }\n",
       "</style>\n",
       "<table border=\"1\" class=\"dataframe\">\n",
       "  <thead>\n",
       "    <tr style=\"text-align: right;\">\n",
       "      <th></th>\n",
       "      <th>gender</th>\n",
       "      <th>age</th>\n",
       "      <th>hypertension</th>\n",
       "      <th>heart_disease</th>\n",
       "      <th>smoking_history</th>\n",
       "      <th>bmi</th>\n",
       "      <th>hbA1c_level</th>\n",
       "      <th>blood_glucose_level</th>\n",
       "      <th>actual_label</th>\n",
       "    </tr>\n",
       "  </thead>\n",
       "  <tbody>\n",
       "    <tr>\n",
       "      <th>0</th>\n",
       "      <td>Female</td>\n",
       "      <td>80.0</td>\n",
       "      <td>0</td>\n",
       "      <td>0</td>\n",
       "      <td>No Info</td>\n",
       "      <td>10.01</td>\n",
       "      <td>6.0</td>\n",
       "      <td>100</td>\n",
       "      <td>0</td>\n",
       "    </tr>\n",
       "    <tr>\n",
       "      <th>1</th>\n",
       "      <td>Male</td>\n",
       "      <td>8.0</td>\n",
       "      <td>0</td>\n",
       "      <td>0</td>\n",
       "      <td>No Info</td>\n",
       "      <td>10.01</td>\n",
       "      <td>6.0</td>\n",
       "      <td>140</td>\n",
       "      <td>0</td>\n",
       "    </tr>\n",
       "    <tr>\n",
       "      <th>2</th>\n",
       "      <td>Male</td>\n",
       "      <td>38.0</td>\n",
       "      <td>0</td>\n",
       "      <td>0</td>\n",
       "      <td>Never</td>\n",
       "      <td>10.08</td>\n",
       "      <td>6.1</td>\n",
       "      <td>130</td>\n",
       "      <td>0</td>\n",
       "    </tr>\n",
       "    <tr>\n",
       "      <th>3</th>\n",
       "      <td>Male</td>\n",
       "      <td>11.0</td>\n",
       "      <td>0</td>\n",
       "      <td>0</td>\n",
       "      <td>No Info</td>\n",
       "      <td>10.14</td>\n",
       "      <td>6.1</td>\n",
       "      <td>160</td>\n",
       "      <td>0</td>\n",
       "    </tr>\n",
       "    <tr>\n",
       "      <th>4</th>\n",
       "      <td>Male</td>\n",
       "      <td>39.0</td>\n",
       "      <td>0</td>\n",
       "      <td>0</td>\n",
       "      <td>Never</td>\n",
       "      <td>10.19</td>\n",
       "      <td>6.5</td>\n",
       "      <td>85</td>\n",
       "      <td>0</td>\n",
       "    </tr>\n",
       "  </tbody>\n",
       "</table>\n",
       "</div>"
      ],
      "text/plain": [
       "   gender   age  hypertension  heart_disease smoking_history    bmi  \\\n",
       "0  Female  80.0             0              0         No Info  10.01   \n",
       "1    Male   8.0             0              0         No Info  10.01   \n",
       "2    Male  38.0             0              0           Never  10.08   \n",
       "3    Male  11.0             0              0         No Info  10.14   \n",
       "4    Male  39.0             0              0           Never  10.19   \n",
       "\n",
       "   hbA1c_level  blood_glucose_level  actual_label  \n",
       "0          6.0                  100             0  \n",
       "1          6.0                  140             0  \n",
       "2          6.1                  130             0  \n",
       "3          6.1                  160             0  \n",
       "4          6.5                   85             0  "
      ]
     },
     "execution_count": 1,
     "metadata": {},
     "output_type": "execute_result"
    }
   ],
   "source": [
    "\n",
    "import pandas as pd\n",
    "import numpy as np\n",
    "import random\n",
    "\n",
    "# Load the dataset \n",
    "dataset_path = '../airflow/data/diabetes_dataset.csv'  \n",
    "df = pd.read_csv(dataset_path)\n",
    "df_errors = df.copy()\n",
    "df_errors.rename(columns={'diabetes': 'actual_label'}, inplace=True)\n",
    "df_errors.head()\n"
   ]
  },
  {
   "cell_type": "markdown",
   "metadata": {},
   "source": [
    "### 1. Introduce Missing Values (in 'Age' and 'Blood Glucose Level')"
   ]
  },
  {
   "cell_type": "code",
   "execution_count": null,
   "metadata": {},
   "outputs": [],
   "source": [
    "missing_percentage = 0.1\n",
    "n_missing = int(len(df_errors) * missing_percentage)\n",
    "\n",
    "missing_age_indices = random.sample(range(len(df_errors)), n_missing)\n",
    "missing_bgl_indices = random.sample(range(len(df_errors)), n_missing)\n",
    "\n",
    "df_errors.loc[missing_age_indices, 'age'] = np.nan\n",
    "df_errors.loc[missing_bgl_indices, 'blood_glucose_level'] = np.nan\n",
    "df_errors.loc[missing_age_indices, 'hbA1c_level'] = np.nan  \n",
    "df_errors.loc[missing_bgl_indices, 'gender'] = np.nan "
   ]
  },
  {
   "cell_type": "markdown",
   "metadata": {},
   "source": [
    "### 2. Introduce Unknown Values in 'Gender'"
   ]
  },
  {
   "cell_type": "code",
   "execution_count": null,
   "metadata": {},
   "outputs": [],
   "source": [
    "unknown_gender_indices = random.sample(range(len(df_errors)), 25)\n",
    "df_errors.loc[unknown_gender_indices, 'gender'] = 'Unknown'"
   ]
  },
  {
   "cell_type": "markdown",
   "metadata": {},
   "source": [
    "### 3. Introduce Wrong data Values for Features"
   ]
  },
  {
   "cell_type": "code",
   "execution_count": null,
   "metadata": {},
   "outputs": [],
   "source": [
    "wrong_age_indices = random.sample(range(len(df_errors)), 25)\n",
    "wrong_gender_indices = random.sample(range(len(df_errors)), 25)\n",
    "\n",
    "df_errors.loc[wrong_age_indices, 'age'] = -12\n",
    "df_errors.loc[wrong_gender_indices, 'gender'] = 'child'"
   ]
  },
  {
   "cell_type": "markdown",
   "metadata": {},
   "source": [
    "### 4. Introduce String in Numerical Columns (e.g., 'Blood Glucose Level')"
   ]
  },
  {
   "cell_type": "code",
   "execution_count": 6,
   "metadata": {},
   "outputs": [],
   "source": [
    "string_in_bgl_indices = random.sample(range(len(df_errors)), 25)\n",
    "string_in_age_indices = random.sample(range(len(df_errors)), 35)\n",
    "\n",
    "bgl_strings = ['High', 'Low']\n",
    "age_strings = ['Young', 'Old', 'Teen']\n",
    "\n",
    "for idx, val in zip(string_in_bgl_indices, random.choices(bgl_strings, k=len(string_in_bgl_indices))):\n",
    "    df_errors.loc[idx, 'blood_glucose_level'] = val\n",
    "\n",
    "for idx, val in zip(string_in_age_indices, random.choices(age_strings, k=len(string_in_age_indices))):\n",
    "    df_errors.loc[idx, 'age'] = val"
   ]
  },
  {
   "cell_type": "markdown",
   "metadata": {},
   "source": [
    "### 5. Introduce Outliers (e.g., extreme BMI values)"
   ]
  },
  {
   "cell_type": "code",
   "execution_count": 7,
   "metadata": {},
   "outputs": [],
   "source": [
    "outlier_bmi_indices = random.sample(range(len(df_errors)), 20)\n",
    "df_errors.loc[outlier_bmi_indices, 'bmi'] = random.choices([100, 200], k=len(outlier_bmi_indices))"
   ]
  },
  {
   "cell_type": "markdown",
   "metadata": {},
   "source": [
    "### 6. Special Characters or Corrupted Data"
   ]
  },
  {
   "cell_type": "code",
   "execution_count": null,
   "metadata": {},
   "outputs": [
    {
     "name": "stderr",
     "output_type": "stream",
     "text": [
      "C:\\Users\\Admin\\AppData\\Local\\Temp\\ipykernel_9788\\2749352786.py:10: FutureWarning: Setting an item of incompatible dtype is deprecated and will raise an error in a future version of pandas. Value '['###', '@#$', '@#$', '###', '$$$']' has dtype incompatible with float64, please explicitly cast to a compatible dtype first.\n",
      "  df.loc[special_char_indices, 'hbA1c_level'] = corrupt_values\n"
     ]
    },
    {
     "data": {
      "text/html": [
       "<div>\n",
       "<style scoped>\n",
       "    .dataframe tbody tr th:only-of-type {\n",
       "        vertical-align: middle;\n",
       "    }\n",
       "\n",
       "    .dataframe tbody tr th {\n",
       "        vertical-align: top;\n",
       "    }\n",
       "\n",
       "    .dataframe thead th {\n",
       "        text-align: right;\n",
       "    }\n",
       "</style>\n",
       "<table border=\"1\" class=\"dataframe\">\n",
       "  <thead>\n",
       "    <tr style=\"text-align: right;\">\n",
       "      <th></th>\n",
       "      <th>gender</th>\n",
       "      <th>age</th>\n",
       "      <th>hypertension</th>\n",
       "      <th>heart_disease</th>\n",
       "      <th>smoking_history</th>\n",
       "      <th>bmi</th>\n",
       "      <th>hbA1c_level</th>\n",
       "      <th>blood_glucose_level</th>\n",
       "      <th>diabetes</th>\n",
       "    </tr>\n",
       "  </thead>\n",
       "  <tbody>\n",
       "    <tr>\n",
       "      <th>22211</th>\n",
       "      <td>Female</td>\n",
       "      <td>31.0</td>\n",
       "      <td>0</td>\n",
       "      <td>0</td>\n",
       "      <td>Never</td>\n",
       "      <td>45.13</td>\n",
       "      <td>@#$</td>\n",
       "      <td>100.0</td>\n",
       "      <td>0</td>\n",
       "    </tr>\n",
       "    <tr>\n",
       "      <th>44837</th>\n",
       "      <td>Male</td>\n",
       "      <td>NaN</td>\n",
       "      <td>0</td>\n",
       "      <td>0</td>\n",
       "      <td>Current</td>\n",
       "      <td>23.55</td>\n",
       "      <td>###</td>\n",
       "      <td>NaN</td>\n",
       "      <td>0</td>\n",
       "    </tr>\n",
       "    <tr>\n",
       "      <th>80311</th>\n",
       "      <td>Male</td>\n",
       "      <td>0.88</td>\n",
       "      <td>0</td>\n",
       "      <td>0</td>\n",
       "      <td>No Info</td>\n",
       "      <td>20.07</td>\n",
       "      <td>@#$</td>\n",
       "      <td>158.0</td>\n",
       "      <td>0</td>\n",
       "    </tr>\n",
       "    <tr>\n",
       "      <th>80647</th>\n",
       "      <td>Male</td>\n",
       "      <td>15.0</td>\n",
       "      <td>0</td>\n",
       "      <td>0</td>\n",
       "      <td>No Info</td>\n",
       "      <td>27.32</td>\n",
       "      <td>###</td>\n",
       "      <td>NaN</td>\n",
       "      <td>0</td>\n",
       "    </tr>\n",
       "    <tr>\n",
       "      <th>86522</th>\n",
       "      <td>Female</td>\n",
       "      <td>25.0</td>\n",
       "      <td>0</td>\n",
       "      <td>0</td>\n",
       "      <td>Never</td>\n",
       "      <td>22.82</td>\n",
       "      <td>$$$</td>\n",
       "      <td>145.0</td>\n",
       "      <td>0</td>\n",
       "    </tr>\n",
       "  </tbody>\n",
       "</table>\n",
       "</div>"
      ],
      "text/plain": [
       "       gender   age  hypertension  heart_disease smoking_history    bmi  \\\n",
       "22211  Female  31.0             0              0           Never  45.13   \n",
       "44837    Male   NaN             0              0         Current  23.55   \n",
       "80311    Male  0.88             0              0         No Info  20.07   \n",
       "80647    Male  15.0             0              0         No Info  27.32   \n",
       "86522  Female  25.0             0              0           Never  22.82   \n",
       "\n",
       "      hbA1c_level blood_glucose_level  diabetes  \n",
       "22211         @#$               100.0         0  \n",
       "44837         ###                 NaN         0  \n",
       "80311         @#$               158.0         0  \n",
       "80647         ###                 NaN         0  \n",
       "86522         $$$               145.0         0  "
      ]
     },
     "execution_count": 10,
     "metadata": {},
     "output_type": "execute_result"
    }
   ],
   "source": [
    "special_char_indices = random.sample(range(len(df_errors)), 25)\n",
    "corrupt_values = random.choices(['@#$', '*&%', '!@', '###', '$$$'], k=len(special_char_indices))\n",
    "\n",
    "df_errors.loc[special_char_indices, 'hbA1c_level'] = corrupt_values"
   ]
  },
  {
   "cell_type": "markdown",
   "metadata": {},
   "source": [
    "### 8. Random Duplicate rows"
   ]
  },
  {
   "cell_type": "code",
   "execution_count": 11,
   "metadata": {},
   "outputs": [
    {
     "data": {
      "text/html": [
       "<div>\n",
       "<style scoped>\n",
       "    .dataframe tbody tr th:only-of-type {\n",
       "        vertical-align: middle;\n",
       "    }\n",
       "\n",
       "    .dataframe tbody tr th {\n",
       "        vertical-align: top;\n",
       "    }\n",
       "\n",
       "    .dataframe thead th {\n",
       "        text-align: right;\n",
       "    }\n",
       "</style>\n",
       "<table border=\"1\" class=\"dataframe\">\n",
       "  <thead>\n",
       "    <tr style=\"text-align: right;\">\n",
       "      <th></th>\n",
       "      <th>age</th>\n",
       "      <th>bmi</th>\n",
       "    </tr>\n",
       "  </thead>\n",
       "  <tbody>\n",
       "    <tr>\n",
       "      <th>11759</th>\n",
       "      <td>19.85</td>\n",
       "      <td>36.0</td>\n",
       "    </tr>\n",
       "    <tr>\n",
       "      <th>21384</th>\n",
       "      <td>22.72</td>\n",
       "      <td>41.0</td>\n",
       "    </tr>\n",
       "    <tr>\n",
       "      <th>13891</th>\n",
       "      <td>31.68</td>\n",
       "      <td>51.0</td>\n",
       "    </tr>\n",
       "    <tr>\n",
       "      <th>42750</th>\n",
       "      <td>38.96</td>\n",
       "      <td>41.0</td>\n",
       "    </tr>\n",
       "    <tr>\n",
       "      <th>43386</th>\n",
       "      <td>21.96</td>\n",
       "      <td>44.0</td>\n",
       "    </tr>\n",
       "  </tbody>\n",
       "</table>\n",
       "</div>"
      ],
      "text/plain": [
       "         age   bmi\n",
       "11759  19.85  36.0\n",
       "21384  22.72  41.0\n",
       "13891  31.68  51.0\n",
       "42750  38.96  41.0\n",
       "43386  21.96  44.0"
      ]
     },
     "execution_count": 11,
     "metadata": {},
     "output_type": "execute_result"
    }
   ],
   "source": [
    "# Randomly select 5 rows to swap 'age' and 'bmi' values \n",
    "swap_indices = random.sample(range(len(df)), 5)\n",
    "\n",
    "# Save the original values before swapping (for reference)  \n",
    "swapped_rows_before = df.loc[swap_indices, ['age', 'bmi']].copy()\n",
    "\n",
    "# Swap the values between 'age' and 'bmi' columns \n",
    "df.loc[swap_indices, ['age', 'bmi']] = df.loc[swap_indices, ['bmi', 'age']].values  \n",
    "\n",
    "# Preview the rows after swapping\n",
    "swapped_rows_after = df.loc[swap_indices, ['age', 'bmi']]\n",
    "swapped_rows_after.head()"
   ]
  }
 ],
 "metadata": {
  "kernelspec": {
   "display_name": "ml",
   "language": "python",
   "name": "python3"
  },
  "language_info": {
   "codemirror_mode": {
    "name": "ipython",
    "version": 3
   },
   "file_extension": ".py",
   "mimetype": "text/x-python",
   "name": "python",
   "nbconvert_exporter": "python",
   "pygments_lexer": "ipython3",
   "version": "3.9.21"
  }
 },
 "nbformat": 4,
 "nbformat_minor": 2
}
